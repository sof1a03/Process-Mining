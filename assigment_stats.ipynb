{
 "cells": [
  {
   "cell_type": "code",
   "execution_count": 1,
   "id": "8c9caca5",
   "metadata": {},
   "outputs": [],
   "source": [
    "import os\n",
    "import pandas as pd\n",
    "import statistics\n",
    "from pm4py.objects.conversion.log import converter as log_converter\n",
    "import matplotlib.pyplot as plt"
   ]
  },
  {
   "cell_type": "code",
   "execution_count": 2,
   "id": "452d391b",
   "metadata": {},
   "outputs": [
    {
     "name": "stdout",
     "output_type": "stream",
     "text": [
      "<class 'pandas.core.frame.DataFrame'>\n",
      "RangeIndex: 303819 entries, 0 to 303818\n",
      "Data columns (total 24 columns):\n",
      " #   Column                   Non-Null Count   Dtype  \n",
      "---  ------                   --------------   -----  \n",
      " 0   Incident ID              303819 non-null  object \n",
      " 1   Activity                 303819 non-null  object \n",
      " 2   ActivityTimeStamp        303819 non-null  object \n",
      " 3   Asset Affected           303819 non-null  object \n",
      " 4   Asset Type Affected      303819 non-null  object \n",
      " 5   Asset SubType Affected   303819 non-null  object \n",
      " 6   Service Affected         303819 non-null  object \n",
      " 7   Status                   303819 non-null  object \n",
      " 8   Impact                   303819 non-null  int64  \n",
      " 9   Urgency                  303819 non-null  int64  \n",
      " 10  Priority                 303819 non-null  int64  \n",
      " 11  Category                 303819 non-null  object \n",
      " 12  Number of Reassignments  303810 non-null  float64\n",
      " 13  Open Time                303819 non-null  object \n",
      " 14  Reopen Time              33687 non-null   object \n",
      " 15  Resolved Time            294641 non-null  object \n",
      " 16  Close Time               303819 non-null  object \n",
      " 17  Handle Time (Hours)      303810 non-null  float64\n",
      " 18  Closure Code             303819 non-null  object \n",
      " 19  Asset Caused             303819 non-null  object \n",
      " 20  Asset Type Caused        303819 non-null  object \n",
      " 21  Asset SubType Caused     303819 non-null  object \n",
      " 22  Service Caused           303819 non-null  object \n",
      " 23  Assignment Group         303819 non-null  object \n",
      "dtypes: float64(2), int64(3), object(19)\n",
      "memory usage: 55.6+ MB\n"
     ]
    }
   ],
   "source": [
    "# 1) Load with correct separators & decimals\n",
    "path = os.path.join(os.getcwd(), \"incidentprocess_custom.csv\")\n",
    "data = pd.read_csv(path,\n",
    "                   sep=\";\",\n",
    "                   decimal=\",\",\n",
    "                   thousands=\".\")\n",
    "data.info()"
   ]
  },
  {
   "cell_type": "code",
   "execution_count": 3,
   "id": "8ac66758",
   "metadata": {},
   "outputs": [],
   "source": [
    "data.columns = data.columns.str.replace(\" \", \"_\")\n",
    "data = data.rename(columns={\n",
    "    \"Incident_ID\":       \"case:concept:name\",\n",
    "    \"Activity\":          \"concept:name\",\n",
    "    \"ActivityTimeStamp\": \"time:timestamp\"\n",
    "})"
   ]
  },
  {
   "cell_type": "code",
   "execution_count": 4,
   "id": "c8505e8e",
   "metadata": {},
   "outputs": [
    {
     "data": {
      "text/plain": [
       "Index(['case:concept:name', 'concept:name', 'time:timestamp', 'Asset_Affected',\n",
       "       'Asset_Type_Affected', 'Asset_SubType_Affected', 'Service_Affected',\n",
       "       'Status', 'Impact', 'Urgency', 'Priority', 'Category',\n",
       "       'Number_of_Reassignments', 'Open_Time', 'Reopen_Time', 'Resolved_Time',\n",
       "       'Close_Time', 'Handle_Time_(Hours)', 'Closure_Code', 'Asset_Caused',\n",
       "       'Asset_Type_Caused', 'Asset_SubType_Caused', 'Service_Caused',\n",
       "       'Assignment_Group'],\n",
       "      dtype='object')"
      ]
     },
     "execution_count": 4,
     "metadata": {},
     "output_type": "execute_result"
    }
   ],
   "source": [
    "data.columns"
   ]
  },
  {
   "cell_type": "code",
   "execution_count": 5,
   "id": "3970768c",
   "metadata": {},
   "outputs": [],
   "source": [
    "assert {\"case:concept:name\",\"concept:name\",\"time:timestamp\"}.issubset(data.columns), \\\n",
    "    \"Missing one of the mandatory columns after rename!\""
   ]
  },
  {
   "cell_type": "code",
   "execution_count": 6,
   "id": "7958628a",
   "metadata": {},
   "outputs": [
    {
     "name": "stderr",
     "output_type": "stream",
     "text": [
      "C:\\Users\\sofia\\AppData\\Local\\Temp\\ipykernel_16620\\172528349.py:2: UserWarning: The argument 'infer_datetime_format' is deprecated and will be removed in a future version. A strict version of it is now the default, see https://pandas.pydata.org/pdeps/0004-consistent-to-datetime-parsing.html. You can safely remove this argument.\n",
      "  data[\"time:timestamp\"] = pd.to_datetime(\n"
     ]
    }
   ],
   "source": [
    "# 3) Parse timestamps once for everything\n",
    "data[\"time:timestamp\"] = pd.to_datetime(\n",
    "    data[\"time:timestamp\"],\n",
    "    infer_datetime_format=True,\n",
    "    utc=True\n",
    ")\n",
    "data[\"Open_Time\"]  = pd.to_datetime(data[\"Open_Time\"],  dayfirst=True)\n",
    "data[\"Close_Time\"] = pd.to_datetime(data[\"Close_Time\"], dayfirst=True)"
   ]
  },
  {
   "cell_type": "code",
   "execution_count": 7,
   "id": "8f6b27ac",
   "metadata": {},
   "outputs": [
    {
     "name": "stdout",
     "output_type": "stream",
     "text": [
      "<class 'pandas.core.frame.DataFrame'>\n",
      "RangeIndex: 303819 entries, 0 to 303818\n",
      "Data columns (total 27 columns):\n",
      " #   Column                   Non-Null Count   Dtype              \n",
      "---  ------                   --------------   -----              \n",
      " 0   case:concept:name        303819 non-null  object             \n",
      " 1   concept:name             303819 non-null  object             \n",
      " 2   time:timestamp           303819 non-null  datetime64[ns, UTC]\n",
      " 3   Asset_Affected           303819 non-null  object             \n",
      " 4   Asset_Type_Affected      303819 non-null  object             \n",
      " 5   Asset_SubType_Affected   303819 non-null  object             \n",
      " 6   Service_Affected         303819 non-null  object             \n",
      " 7   Status                   303819 non-null  object             \n",
      " 8   Impact                   303819 non-null  int64              \n",
      " 9   Urgency                  303819 non-null  int64              \n",
      " 10  Priority                 303819 non-null  int64              \n",
      " 11  Category                 303819 non-null  object             \n",
      " 12  Number_of_Reassignments  303810 non-null  float64            \n",
      " 13  Open_Time                303819 non-null  datetime64[ns]     \n",
      " 14  Reopen_Time              33687 non-null   object             \n",
      " 15  Resolved_Time            294641 non-null  object             \n",
      " 16  Close_Time               303819 non-null  datetime64[ns]     \n",
      " 17  Handle_Time_(Hours)      303810 non-null  float64            \n",
      " 18  Closure_Code             303819 non-null  object             \n",
      " 19  Asset_Caused             303819 non-null  object             \n",
      " 20  Asset_Type_Caused        303819 non-null  object             \n",
      " 21  Asset_SubType_Caused     303819 non-null  object             \n",
      " 22  Service_Caused           303819 non-null  object             \n",
      " 23  Assignment_Group         303819 non-null  object             \n",
      " 24  Open_Time_dt             303819 non-null  datetime64[ns]     \n",
      " 25  Close_Time_dt            303819 non-null  datetime64[ns]     \n",
      " 26  computed_handle_hours    303819 non-null  float64            \n",
      "dtypes: datetime64[ns, UTC](1), datetime64[ns](4), float64(3), int64(3), object(16)\n",
      "memory usage: 62.6+ MB\n"
     ]
    }
   ],
   "source": [
    "# 1. Parse your open/close columns (dayfirst=True because your dates are dd/mm/yyyy)\n",
    "data['Open_Time_dt']  = pd.to_datetime(data['Open_Time'],  dayfirst=True)\n",
    "data['Close_Time_dt'] = pd.to_datetime(data['Close_Time'], dayfirst=True)\n",
    "\n",
    "# 2. Compute a fresh handle time in hours\n",
    "data['computed_handle_hours'] = (\n",
    "    data['Close_Time_dt'] - data['Open_Time_dt']\n",
    ").dt.total_seconds() / 3600\n",
    "\n",
    "data.info()"
   ]
  },
  {
   "cell_type": "code",
   "execution_count": 8,
   "id": "74420287",
   "metadata": {},
   "outputs": [],
   "source": [
    "# Cell 1: Build a case‐level DataFrame from your event‐level `data`\n",
    "case_df = data.groupby(\"case:concept:name\").agg(\n",
    "    num_events             = (\"concept:name\", \"count\"),\n",
    "    handle_time            = (\"computed_handle_hours\", \"first\"),\n",
    "    num_reassignments      = (\"Number_of_Reassignments\", \"first\"),\n",
    "    any_reopened           = (\"Reopen_Time\", lambda x: x.notna().any()),\n",
    "    priority               = (\"Priority\", \"first\"),\n",
    "    category               = (\"Category\", \"first\"),\n",
    "    assignment_group       = (\"Assignment_Group\", lambda x: x.mode()[0]),\n",
    "    asset_type_affected    = (\"Asset_Type_Affected\", lambda x: x.mode()[0]),\n",
    "    asset_caused           = (\"Asset_Caused\", lambda x: x.mode()[0])\n",
    ").reset_index()"
   ]
  },
  {
   "cell_type": "code",
   "execution_count": 9,
   "id": "7d46432c",
   "metadata": {},
   "outputs": [
    {
     "name": "stdout",
     "output_type": "stream",
     "text": [
      "Total cases:           46,601\n",
      "Total events:          303,819\n",
      "Distinct activities:   18\n",
      "% cases reopened:      4.9%\n",
      "Events per case:\n",
      "  mean    6.5,  median 5.0,  σ 5.7\n",
      "  P25/P75/P90: ['4', '7', '12']\n"
     ]
    }
   ],
   "source": [
    "print(f\"Total cases:           {len(case_df):,}\")\n",
    "print(f\"Total events:          {len(data):,}\")\n",
    "print(f\"Distinct activities:   {data['concept:name'].nunique()}\")\n",
    "print(f\"% cases reopened:      {100*case_df['any_reopened'].mean():.1f}%\")\n",
    "\n",
    "epc = case_df[\"num_events\"]\n",
    "print(\"Events per case:\")\n",
    "print(f\"  mean    {epc.mean():.1f},  median {epc.median():.1f},  σ {epc.std(ddof=0):.1f}\")\n",
    "print(\"  P25/P75/P90:\",\n",
    "      epc.quantile([.25,.75,.90]).apply(lambda x: f\"{x:.0f}\").to_list())"
   ]
  },
  {
   "cell_type": "code",
   "execution_count": 10,
   "id": "720a8991",
   "metadata": {},
   "outputs": [
    {
     "name": "stdout",
     "output_type": "stream",
     "text": [
      "Distinct variants:    10285\n",
      "Singleton variants:   85.4%\n",
      "Top 5 variants by count:\n",
      "concept:name\n",
      "(Open, Assign to 1st Line Operator, Close, Set Asset Caused)    6123\n",
      "(Open, Assign to 1st Line Operator, Set Asset Caused, Close)    4395\n",
      "(Open, Close, Set Asset Caused)                                 2982\n",
      "(Open, Assign to 1st Line Operator, Close)                      2512\n",
      "(Open, Assign to 1st Line Operator, Mail to Customer, Close)    1712\n",
      "Name: count, dtype: int64\n"
     ]
    }
   ],
   "source": [
    "# 2. Variant analysis (long‐tail collapse)\n",
    "variants = data.groupby(\"case:concept:name\")[\"concept:name\"].apply(tuple)\n",
    "vc = variants.value_counts()\n",
    "n_var     = vc.size\n",
    "pct_singl = 100*(vc==1).sum()/n_var\n",
    "print(f\"Distinct variants:    {n_var}\")\n",
    "print(f\"Singleton variants:   {pct_singl:.1f}%\")\n",
    "print(\"Top 5 variants by count:\")\n",
    "print(vc.head(5))"
   ]
  },
  {
   "cell_type": "code",
   "execution_count": 11,
   "id": "04267a18",
   "metadata": {},
   "outputs": [
    {
     "name": "stdout",
     "output_type": "stream",
     "text": [
      "Handle time (hrs):  mean 123.1,  median 18.4,  σ 452.8\n",
      "  P25/P75/P90: ['1.3', '95.1', '261.9']\n",
      "% cases > 5 days:  21.3%\n"
     ]
    }
   ],
   "source": [
    "# 3. Handle‐time distribution (robust stats)\n",
    "ht = case_df[\"handle_time\"].dropna()\n",
    "print(f\"Handle time (hrs):  mean {ht.mean():.1f},  median {ht.median():.1f},  σ {ht.std(ddof=0):.1f}\")\n",
    "print(\"  P25/P75/P90:\", ht.quantile([.25,.75,.90]).apply(lambda x: f\"{x:.1f}\").to_list())\n",
    "print(f\"% cases > 5 days:  {100*(ht>24*5).mean():.1f}%\")"
   ]
  },
  {
   "cell_type": "code",
   "execution_count": 12,
   "id": "3b9c88e9",
   "metadata": {},
   "outputs": [
    {
     "name": "stdout",
     "output_type": "stream",
     "text": [
      "                   n_cases          avg          med\n",
      "num_reassignments                                   \n",
      "0.0                  27468    39.414823     2.522083\n",
      "1.0                   7267   114.339029    24.500833\n",
      "2.0                   5376   192.338529    64.885417\n",
      "3.0                   2191   266.523625   118.036111\n",
      "4.0                   1605   335.093029   144.581944\n",
      "5.0                    721   367.010114   169.510833\n",
      "6.0                    622   474.157268   213.608194\n",
      "7.0                    328   595.324630   267.178750\n",
      "8.0                    246   682.613718   309.615972\n",
      "9.0                    170   662.255188   337.242778\n",
      "10.0                   146   641.163613   358.857083\n",
      "11.0                   101   608.457607   423.896389\n",
      "12.0                    58  1088.361006   494.615278\n",
      "13.0                    61  1240.215173   578.805833\n",
      "14.0                    47   987.956631   602.118333\n",
      "15.0                    43  1369.450633   819.215556\n",
      "16.0                    25   989.051011   700.249167\n",
      "17.0                    27  1541.477675   909.480833\n",
      "18.0                    14  1047.345357   838.900000\n",
      "19.0                    10  1268.379194   902.678472\n",
      "20.0                     7  1137.387817  1202.682222\n",
      "21.0                    11  1193.021010   846.139444\n",
      "22.0                    10  1510.240611   824.668750\n",
      "23.0                     5  1236.877722   957.010556\n",
      "24.0                     3  1445.438426  1505.140833\n",
      "25.0                    10  1490.508167  1123.089306\n",
      "26.0                     7  4169.949365  1731.190278\n",
      "27.0                     2   552.367083   552.367083\n",
      "29.0                     1   916.540000   916.540000\n",
      "30.0                     3  1924.221019   666.367500\n",
      "31.0                     1   861.936667   861.936667\n",
      "32.0                     3  2199.251389   816.399444\n",
      "33.0                     3  5549.478241   817.720556\n",
      "34.0                     1   956.472500   956.472500\n",
      "36.0                     1   454.345278   454.345278\n",
      "37.0                     1  4727.533333  4727.533333\n",
      "38.0                     1  2350.998056  2350.998056\n",
      "39.0                     1  2043.102500  2043.102500\n",
      "42.0                     1  1873.951111  1873.951111\n",
      "45.0                     1  2305.679444  2305.679444\n",
      "46.0                     1  2344.116667  2344.116667\n"
     ]
    }
   ],
   "source": [
    "# 4. Reassignments vs. AHT\n",
    "\n",
    "ra = ( case_df\n",
    "       .groupby(\"num_reassignments\")[\"handle_time\"]\n",
    "       .agg(n_cases=\"count\", avg=\"mean\", med=\"median\")\n",
    "       .loc[:,[\"n_cases\",\"avg\",\"med\"]]\n",
    "     )\n",
    "print(ra)"
   ]
  },
  {
   "cell_type": "code",
   "execution_count": 13,
   "id": "0e03ab39",
   "metadata": {},
   "outputs": [
    {
     "name": "stdout",
     "output_type": "stream",
     "text": [
      "category  complaint  incident  request for change  request for information\n",
      "priority                                                                  \n",
      "1               NaN      82.2                 NaN                      NaN\n",
      "2               NaN      19.0                 NaN                      2.5\n",
      "3               NaN      85.8                 NaN                    190.6\n",
      "4               NaN     125.3                 NaN                    174.4\n",
      "5             363.3     141.3               170.9                    131.7\n"
     ]
    }
   ],
   "source": [
    "# 5. AHT by Priority × Category (only real combos)\n",
    "pivot = (\n",
    "    case_df\n",
    "    .pivot_table(\n",
    "        index=\"priority\",\n",
    "        columns=\"category\",\n",
    "        values=\"handle_time\",\n",
    "        aggfunc=\"mean\"\n",
    "    )\n",
    "    .round(1)\n",
    "    .dropna(how=\"all\")     # drop priorities with no cases\n",
    "    .dropna(axis=1, how=\"all\")  # drop categories with no priorities\n",
    ")\n",
    "print(pivot)"
   ]
  },
  {
   "cell_type": "code",
   "execution_count": 14,
   "id": "6ab91026",
   "metadata": {},
   "outputs": [
    {
     "name": "stdout",
     "output_type": "stream",
     "text": [
      "assignment_group\n",
      "TEAM0006    10075.9\n",
      "TEAM0011     5593.5\n",
      "TEAM0148     4028.7\n",
      "TEAM0062     3943.3\n",
      "TEAM0118     1902.9\n",
      "TEAM0029     1874.1\n",
      "TEAM0002     1425.1\n",
      "TEAM0003     1131.1\n",
      "TEAM0178      999.2\n",
      "TEAM0081      900.9\n",
      "Name: handle_time, dtype: float64\n"
     ]
    }
   ],
   "source": [
    "# 6. Top Assignment‐groups by AHT\n",
    "tg = (\n",
    "    case_df\n",
    "    .groupby(\"assignment_group\")[\"handle_time\"]\n",
    "    .mean()\n",
    "    .sort_values(ascending=False)\n",
    "    .head(10)\n",
    "    .round(1)\n",
    ")\n",
    "print(tg)"
   ]
  },
  {
   "cell_type": "code",
   "execution_count": 19,
   "id": "4b8baedf",
   "metadata": {},
   "outputs": [
    {
     "name": "stdout",
     "output_type": "stream",
     "text": [
      "              total_cases  reopened  reopen_rate\n",
      "asset_caused                                    \n",
      "SBA000423              32        11         34.4\n",
      "SUB000534              14         4         28.6\n",
      "STA000037              11         3         27.3\n",
      "WSR000393              88        23         26.1\n",
      "SAP000004             717       158         22.0\n",
      "APP000002              14         3         21.4\n",
      "SUB000431              10         2         20.0\n",
      "SAP000001              15         3         20.0\n",
      "SBA000436              11         2         18.2\n",
      "DSK000006              11         2         18.2\n"
     ]
    }
   ],
   "source": [
    "# 1. Group and aggregate properly:\n",
    "asset_reopen = (\n",
    "    case_df\n",
    "    .groupby(\"asset_caused\")\n",
    "    .agg(\n",
    "        total_cases = (\"case:concept:name\", \"count\"),\n",
    "        reopened    = (\"any_reopened\",      \"sum\")\n",
    "    )\n",
    ")\n",
    "\n",
    "# 2. Compute the rate:\n",
    "asset_reopen[\"reopen_rate\"] = 100 * asset_reopen[\"reopened\"] / asset_reopen[\"total_cases\"]\n",
    "\n",
    "# 3. Filter and sort:\n",
    "top_assets = (\n",
    "    asset_reopen\n",
    "    .loc[lambda df: df[\"total_cases\"] >= 10]\n",
    "    .sort_values(\"reopen_rate\", ascending=False)\n",
    "    .head(10)\n",
    "    .round(1)\n",
    ")\n",
    "\n",
    "print(top_assets)"
   ]
  },
  {
   "cell_type": "code",
   "execution_count": 36,
   "id": "ef7e5d24",
   "metadata": {},
   "outputs": [
    {
     "name": "stdout",
     "output_type": "stream",
     "text": [
      "<class 'pandas.core.frame.DataFrame'>\n",
      "RangeIndex: 303819 entries, 0 to 303818\n",
      "Data columns (total 27 columns):\n",
      " #   Column                   Non-Null Count   Dtype              \n",
      "---  ------                   --------------   -----              \n",
      " 0   case:concept:name        303819 non-null  object             \n",
      " 1   concept:name             303819 non-null  object             \n",
      " 2   time:timestamp           303819 non-null  datetime64[ns, UTC]\n",
      " 3   Asset_Affected           303819 non-null  object             \n",
      " 4   Asset_Type_Affected      303819 non-null  object             \n",
      " 5   Asset_SubType_Affected   303819 non-null  object             \n",
      " 6   Service_Affected         303819 non-null  object             \n",
      " 7   Status                   303819 non-null  object             \n",
      " 8   Impact                   303819 non-null  int64              \n",
      " 9   Urgency                  303819 non-null  int64              \n",
      " 10  Priority                 303819 non-null  int64              \n",
      " 11  Category                 303819 non-null  object             \n",
      " 12  Number_of_Reassignments  303810 non-null  float64            \n",
      " 13  Open_Time                303819 non-null  object             \n",
      " 14  Reopen_Time              33687 non-null   object             \n",
      " 15  Resolved_Time            294641 non-null  object             \n",
      " 16  Close_Time               303819 non-null  object             \n",
      " 17  Handle_Time_(Hours)      303810 non-null  float64            \n",
      " 18  Closure_Code             303819 non-null  object             \n",
      " 19  Asset_Caused             303819 non-null  object             \n",
      " 20  Asset_Type_Caused        303819 non-null  object             \n",
      " 21  Asset_SubType_Caused     303819 non-null  object             \n",
      " 22  Service_Caused           303819 non-null  object             \n",
      " 23  Assignment_Group         303819 non-null  object             \n",
      " 24  Open_Time_dt             303819 non-null  datetime64[ns]     \n",
      " 25  Close_Time_dt            303819 non-null  datetime64[ns]     \n",
      " 26  computed_handle_hours    303819 non-null  float64            \n",
      "dtypes: datetime64[ns, UTC](1), datetime64[ns](2), float64(3), int64(3), object(18)\n",
      "memory usage: 62.6+ MB\n"
     ]
    }
   ],
   "source": [
    "# 1. Parse your open/close columns (dayfirst=True because your dates are dd/mm/yyyy)\n",
    "data['Open_Time_dt']  = pd.to_datetime(data['Open_Time'],  dayfirst=True)\n",
    "data['Close_Time_dt'] = pd.to_datetime(data['Close_Time'], dayfirst=True)\n",
    "\n",
    "# 2. Compute a fresh handle time in hours\n",
    "data['computed_handle_hours'] = (\n",
    "    data['Close_Time_dt'] - data['Open_Time_dt']\n",
    ").dt.total_seconds() / 3600\n",
    "\n",
    "data.info()"
   ]
  },
  {
   "cell_type": "code",
   "execution_count": 37,
   "id": "fb32a04f",
   "metadata": {},
   "outputs": [],
   "source": [
    "# Cell 1: Build a case‐level DataFrame from your event‐level `data`\n",
    "case_df = data.groupby(\"case:concept:name\").agg(\n",
    "    num_events             = (\"concept:name\", \"count\"),\n",
    "    handle_time            = (\"computed_handle_hours\", \"first\"),\n",
    "    num_reassignments      = (\"Number_of_Reassignments\", \"first\"),\n",
    "    any_reopened           = (\"Reopen_Time\", lambda x: x.notna().any()),\n",
    "    priority               = (\"Priority\", \"first\"),\n",
    "    category               = (\"Category\", \"first\"),\n",
    "    assignment_group       = (\"Assignment_Group\", lambda x: x.mode()[0]),\n",
    "    asset_type_affected    = (\"Asset_Type_Affected\", lambda x: x.mode()[0]),\n",
    "    asset_caused           = (\"Asset_Caused\", lambda x: x.mode()[0])\n",
    ").reset_index()\n"
   ]
  },
  {
   "cell_type": "code",
   "execution_count": 38,
   "id": "33cb62d5",
   "metadata": {},
   "outputs": [
    {
     "data": {
      "text/html": [
       "<div>\n",
       "<style scoped>\n",
       "    .dataframe tbody tr th:only-of-type {\n",
       "        vertical-align: middle;\n",
       "    }\n",
       "\n",
       "    .dataframe tbody tr th {\n",
       "        vertical-align: top;\n",
       "    }\n",
       "\n",
       "    .dataframe thead th {\n",
       "        text-align: right;\n",
       "    }\n",
       "</style>\n",
       "<table border=\"1\" class=\"dataframe\">\n",
       "  <thead>\n",
       "    <tr style=\"text-align: right;\">\n",
       "      <th></th>\n",
       "      <th>case:concept:name</th>\n",
       "      <th>num_events</th>\n",
       "      <th>handle_time</th>\n",
       "      <th>num_reassignments</th>\n",
       "      <th>any_reopened</th>\n",
       "      <th>priority</th>\n",
       "      <th>category</th>\n",
       "      <th>assignment_group</th>\n",
       "      <th>asset_type_affected</th>\n",
       "      <th>asset_caused</th>\n",
       "    </tr>\n",
       "  </thead>\n",
       "  <tbody>\n",
       "    <tr>\n",
       "      <th>0</th>\n",
       "      <td>IM0000004</td>\n",
       "      <td>8</td>\n",
       "      <td>15312.305556</td>\n",
       "      <td>26.0</td>\n",
       "      <td>False</td>\n",
       "      <td>4</td>\n",
       "      <td>incident</td>\n",
       "      <td>TEAM0003</td>\n",
       "      <td>subapplication</td>\n",
       "      <td>SUB000508</td>\n",
       "    </tr>\n",
       "    <tr>\n",
       "      <th>1</th>\n",
       "      <td>IM0000005</td>\n",
       "      <td>18</td>\n",
       "      <td>15116.866944</td>\n",
       "      <td>33.0</td>\n",
       "      <td>True</td>\n",
       "      <td>3</td>\n",
       "      <td>incident</td>\n",
       "      <td>TEAM0003</td>\n",
       "      <td>application</td>\n",
       "      <td>WBA000124</td>\n",
       "    </tr>\n",
       "    <tr>\n",
       "      <th>2</th>\n",
       "      <td>IM0000006</td>\n",
       "      <td>2</td>\n",
       "      <td>15722.619444</td>\n",
       "      <td>3.0</td>\n",
       "      <td>False</td>\n",
       "      <td>3</td>\n",
       "      <td>request for information</td>\n",
       "      <td>TEAM0170</td>\n",
       "      <td>application</td>\n",
       "      <td>DTA000024</td>\n",
       "    </tr>\n",
       "    <tr>\n",
       "      <th>3</th>\n",
       "      <td>IM0000011</td>\n",
       "      <td>18</td>\n",
       "      <td>11637.706667</td>\n",
       "      <td>13.0</td>\n",
       "      <td>False</td>\n",
       "      <td>4</td>\n",
       "      <td>incident</td>\n",
       "      <td>TEAM0002</td>\n",
       "      <td>application</td>\n",
       "      <td>WBA000124</td>\n",
       "    </tr>\n",
       "    <tr>\n",
       "      <th>4</th>\n",
       "      <td>IM0000012</td>\n",
       "      <td>6</td>\n",
       "      <td>10922.903333</td>\n",
       "      <td>2.0</td>\n",
       "      <td>False</td>\n",
       "      <td>4</td>\n",
       "      <td>incident</td>\n",
       "      <td>TEAM0002</td>\n",
       "      <td>application</td>\n",
       "      <td>SUB000508</td>\n",
       "    </tr>\n",
       "    <tr>\n",
       "      <th>5</th>\n",
       "      <td>IM0000013</td>\n",
       "      <td>6</td>\n",
       "      <td>10922.436944</td>\n",
       "      <td>4.0</td>\n",
       "      <td>False</td>\n",
       "      <td>4</td>\n",
       "      <td>incident</td>\n",
       "      <td>TEAM0002</td>\n",
       "      <td>application</td>\n",
       "      <td>SUB000508</td>\n",
       "    </tr>\n",
       "    <tr>\n",
       "      <th>6</th>\n",
       "      <td>IM0000014</td>\n",
       "      <td>8</td>\n",
       "      <td>11972.693611</td>\n",
       "      <td>2.0</td>\n",
       "      <td>False</td>\n",
       "      <td>4</td>\n",
       "      <td>incident</td>\n",
       "      <td>TEAM0002</td>\n",
       "      <td>application</td>\n",
       "      <td>WBA000082</td>\n",
       "    </tr>\n",
       "    <tr>\n",
       "      <th>7</th>\n",
       "      <td>IM0000015</td>\n",
       "      <td>14</td>\n",
       "      <td>10629.624167</td>\n",
       "      <td>5.0</td>\n",
       "      <td>False</td>\n",
       "      <td>4</td>\n",
       "      <td>incident</td>\n",
       "      <td>TEAM0002</td>\n",
       "      <td>application</td>\n",
       "      <td>WBA000124</td>\n",
       "    </tr>\n",
       "    <tr>\n",
       "      <th>8</th>\n",
       "      <td>IM0000017</td>\n",
       "      <td>6</td>\n",
       "      <td>10462.051667</td>\n",
       "      <td>2.0</td>\n",
       "      <td>False</td>\n",
       "      <td>3</td>\n",
       "      <td>incident</td>\n",
       "      <td>TEAM0002</td>\n",
       "      <td>application</td>\n",
       "      <td>#N/B</td>\n",
       "    </tr>\n",
       "    <tr>\n",
       "      <th>9</th>\n",
       "      <td>IM0000018</td>\n",
       "      <td>6</td>\n",
       "      <td>10342.526944</td>\n",
       "      <td>2.0</td>\n",
       "      <td>False</td>\n",
       "      <td>4</td>\n",
       "      <td>incident</td>\n",
       "      <td>TEAM0002</td>\n",
       "      <td>application</td>\n",
       "      <td>#N/B</td>\n",
       "    </tr>\n",
       "  </tbody>\n",
       "</table>\n",
       "</div>"
      ],
      "text/plain": [
       "  case:concept:name  num_events   handle_time  num_reassignments  \\\n",
       "0         IM0000004           8  15312.305556               26.0   \n",
       "1         IM0000005          18  15116.866944               33.0   \n",
       "2         IM0000006           2  15722.619444                3.0   \n",
       "3         IM0000011          18  11637.706667               13.0   \n",
       "4         IM0000012           6  10922.903333                2.0   \n",
       "5         IM0000013           6  10922.436944                4.0   \n",
       "6         IM0000014           8  11972.693611                2.0   \n",
       "7         IM0000015          14  10629.624167                5.0   \n",
       "8         IM0000017           6  10462.051667                2.0   \n",
       "9         IM0000018           6  10342.526944                2.0   \n",
       "\n",
       "   any_reopened  priority                 category assignment_group  \\\n",
       "0         False         4                 incident         TEAM0003   \n",
       "1          True         3                 incident         TEAM0003   \n",
       "2         False         3  request for information         TEAM0170   \n",
       "3         False         4                 incident         TEAM0002   \n",
       "4         False         4                 incident         TEAM0002   \n",
       "5         False         4                 incident         TEAM0002   \n",
       "6         False         4                 incident         TEAM0002   \n",
       "7         False         4                 incident         TEAM0002   \n",
       "8         False         3                 incident         TEAM0002   \n",
       "9         False         4                 incident         TEAM0002   \n",
       "\n",
       "  asset_type_affected asset_caused  \n",
       "0      subapplication    SUB000508  \n",
       "1         application    WBA000124  \n",
       "2         application    DTA000024  \n",
       "3         application    WBA000124  \n",
       "4         application    SUB000508  \n",
       "5         application    SUB000508  \n",
       "6         application    WBA000082  \n",
       "7         application    WBA000124  \n",
       "8         application         #N/B  \n",
       "9         application         #N/B  "
      ]
     },
     "execution_count": 38,
     "metadata": {},
     "output_type": "execute_result"
    }
   ],
   "source": [
    "case_df.head(10)"
   ]
  },
  {
   "cell_type": "code",
   "execution_count": 39,
   "id": "f09fd9c1",
   "metadata": {},
   "outputs": [
    {
     "name": "stdout",
     "output_type": "stream",
     "text": [
      "Total cases:           46601\n",
      "Total events:          303819\n",
      "Distinct activities:   18\n",
      "% cases closed:        100.0%\n",
      "% cases reopened:      4.9%\n",
      "Events per case (µ,σ): 6.5, 5.7\n"
     ]
    }
   ],
   "source": [
    "# Cell 2: Overall counts & rates\n",
    "total_cases    = case_df.shape[0]\n",
    "total_events   = data.shape[0]\n",
    "distinct_acts  = data[\"concept:name\"].nunique()\n",
    "pct_closed     = 100 * case_df[\"handle_time\"].notna().mean()\n",
    "pct_reopened   = 100 * case_df[\"any_reopened\"].mean()\n",
    "\n",
    "print(f\"Total cases:           {total_cases}\")\n",
    "print(f\"Total events:          {total_events}\")\n",
    "print(f\"Distinct activities:   {distinct_acts}\")\n",
    "print(f\"% cases closed:        {pct_closed:.1f}%\")\n",
    "print(f\"% cases reopened:      {pct_reopened:.1f}%\")\n",
    "print(f\"Events per case (µ,σ): {case_df['num_events'].mean():.1f}, {case_df['num_events'].std(ddof=0):.1f}\")"
   ]
  },
  {
   "cell_type": "code",
   "execution_count": 40,
   "id": "370fa9c9",
   "metadata": {},
   "outputs": [
    {
     "name": "stdout",
     "output_type": "stream",
     "text": [
      "\n",
      "Distinct variants:    10285\n",
      "Singleton variants:   85.4%\n",
      "Top 5 variants by count:\n",
      "concept:name\n",
      "(Open, Assign to 1st Line Operator, Close, Set Asset Caused)    6123\n",
      "(Open, Assign to 1st Line Operator, Set Asset Caused, Close)    4395\n",
      "(Open, Close, Set Asset Caused)                                 2982\n",
      "(Open, Assign to 1st Line Operator, Close)                      2512\n",
      "(Open, Assign to 1st Line Operator, Mail to Customer, Close)    1712\n",
      "Name: count, dtype: int64\n"
     ]
    }
   ],
   "source": [
    "variants      = data.groupby(\"case:concept:name\")[\"concept:name\"].apply(tuple)\n",
    "variant_counts= variants.value_counts()\n",
    "num_variants  = variant_counts.size\n",
    "singleton_pct = 100 * (variant_counts == 1).sum() / num_variants\n",
    "\n",
    "print(f\"\\nDistinct variants:    {num_variants}\")\n",
    "print(f\"Singleton variants:   {singleton_pct:.1f}%\")\n",
    "print(\"Top 5 variants by count:\")\n",
    "print(variant_counts.head(5))"
   ]
  },
  {
   "cell_type": "code",
   "execution_count": 41,
   "id": "c307cb04",
   "metadata": {},
   "outputs": [
    {
     "name": "stdout",
     "output_type": "stream",
     "text": [
      "\n",
      "Handle time (hrs): μ=123.1, med=18.4, σ=452.8\n",
      "% cases >5 days:     21.3%\n"
     ]
    }
   ],
   "source": [
    "# Handle‐time distribution\n",
    "ht = case_df[\"handle_time\"].dropna()\n",
    "print(f\"\\nHandle time (hrs): μ={ht.mean():.1f}, med={ht.median():.1f}, σ={ht.std(ddof=0):.1f}\")\n",
    "print(f\"% cases >5 days:     {100*(ht > 24*5).mean():.1f}%\")"
   ]
  },
  {
   "cell_type": "code",
   "execution_count": 45,
   "id": "ccf19349",
   "metadata": {},
   "outputs": [
    {
     "name": "stdout",
     "output_type": "stream",
     "text": [
      "\n",
      "Reassignments → mean AHT (hrs):\n",
      "                      avg_aht  n_cases\n",
      "num_reassignments                     \n",
      "0.0                 39.414823    27468\n",
      "1.0                114.339029     7267\n",
      "2.0                192.338529     5376\n",
      "3.0                266.523625     2191\n",
      "4.0                335.093029     1605\n"
     ]
    }
   ],
   "source": [
    "#Reassignments vs. AHT\n",
    "ra = case_df.groupby(\"num_reassignments\")[\"handle_time\"].agg([\"mean\",\"count\"]).rename(columns={\"mean\":\"avg_aht\",\"count\":\"n_cases\"})\n",
    "print(\"\\nReassignments → mean AHT (hrs):\")\n",
    "print(ra.head())"
   ]
  },
  {
   "cell_type": "code",
   "execution_count": 42,
   "id": "78e70a25",
   "metadata": {},
   "outputs": [
    {
     "name": "stdout",
     "output_type": "stream",
     "text": [
      "\n",
      "Average AHT (hrs) by priority × category:\n",
      "category  complaint  incident  request for change  request for information\n",
      "priority                                                                  \n",
      "1              0.00     82.16                0.00                     0.00\n",
      "2              0.00     19.00                0.00                     2.53\n",
      "3              0.00     85.76                0.00                   190.62\n",
      "4              0.00    125.35                0.00                   174.38\n",
      "5            363.25    141.30              170.88                   131.73\n"
     ]
    }
   ],
   "source": [
    "#AHT by Priority & Category\n",
    "pivot_pc = (\n",
    "    case_df\n",
    "    .pivot_table(\n",
    "        index=\"priority\",\n",
    "        columns=\"category\",\n",
    "        values=\"handle_time\",\n",
    "        aggfunc=\"mean\"\n",
    "    )\n",
    "    .round(2)\n",
    "    .fillna(0)\n",
    ")\n",
    "print(\"\\nAverage AHT (hrs) by priority × category:\")\n",
    "print(pivot_pc)\n"
   ]
  },
  {
   "cell_type": "code",
   "execution_count": 44,
   "id": "a70c4ca1",
   "metadata": {},
   "outputs": [
    {
     "name": "stdout",
     "output_type": "stream",
     "text": [
      "\n",
      "Top 10 groups by avg AHT (hrs):\n",
      "assignment_group\n",
      "TEAM0006    10075.9\n",
      "TEAM0011     5593.5\n",
      "TEAM0148     4028.7\n",
      "TEAM0062     3943.3\n",
      "TEAM0118     1902.9\n",
      "TEAM0029     1874.1\n",
      "TEAM0002     1425.1\n",
      "TEAM0003     1131.1\n",
      "TEAM0178      999.2\n",
      "TEAM0081      900.9\n",
      "Name: handle_time, dtype: float64\n"
     ]
    }
   ],
   "source": [
    "#Top 10 Assignment Groups by AHT\n",
    "top_groups = (\n",
    "    case_df\n",
    "    .groupby(\"assignment_group\")[\"handle_time\"]\n",
    "    .mean()\n",
    "    .sort_values(ascending=False)\n",
    "    .head(10)\n",
    "    .round(1)\n",
    ")\n",
    "print(\"\\nTop 10 groups by avg AHT (hrs):\")\n",
    "print(top_groups)"
   ]
  },
  {
   "cell_type": "code",
   "execution_count": 43,
   "id": "366d859f",
   "metadata": {},
   "outputs": [
    {
     "name": "stdout",
     "output_type": "stream",
     "text": [
      "\n",
      "Top 10 assets by reopen rate (%):\n",
      "              total_cases  reopened  reopen_rate\n",
      "asset_caused                                    \n",
      "DSK000417               1         1        100.0\n",
      "DSK000248               1         1        100.0\n",
      "DSK000257               1         1        100.0\n",
      "VDI001014               1         1        100.0\n",
      "DSK000629               1         1        100.0\n",
      "LAP000418               1         1        100.0\n",
      "DSK000645               1         1        100.0\n",
      "LAP000099               1         1        100.0\n",
      "DSK000650               1         1        100.0\n",
      "LAP000985               1         1        100.0\n"
     ]
    }
   ],
   "source": [
    "# Reopen‐rate by root‐cause asset\n",
    "asset_reopen = (\n",
    "    case_df\n",
    "    .groupby(\"asset_caused\")\n",
    "    .agg(\n",
    "        total_cases = (\"case:concept:name\",\"count\"),\n",
    "        reopened    = (\"any_reopened\",\"sum\")\n",
    "    )\n",
    ")\n",
    "asset_reopen[\"reopen_rate\"] = 100 * asset_reopen[\"reopened\"] / asset_reopen[\"total_cases\"]\n",
    "print(\"\\nTop 10 assets by reopen rate (%):\")\n",
    "print(asset_reopen.sort_values(\"reopen_rate\", ascending=False).head(10).round(1))"
   ]
  },
  {
   "cell_type": "code",
   "execution_count": 47,
   "id": "a1aba215",
   "metadata": {},
   "outputs": [
    {
     "data": {
      "image/png": "[encoded data removed]",
      "text/plain": [
       "<Figure size 640x480 with 1 Axes>"
      ]
     },
     "metadata": {},
     "output_type": "display_data"
    }
   ],
   "source": [
    "plt.figure()\n",
    "case_df['num_events'].hist(bins=30)\n",
    "plt.title('Distribution of Events per Case')\n",
    "plt.xlabel('Number of Events')\n",
    "plt.ylabel('Number of Cases')\n",
    "plt.show()"
   ]
  },
  {
   "cell_type": "code",
   "execution_count": 55,
   "id": "f5a056fd",
   "metadata": {},
   "outputs": [
    {
     "data": {
      "image/png": "[encoded data removed]",
      "text/plain": [
       "<Figure size 640x480 with 1 Axes>"
      ]
     },
     "metadata": {},
     "output_type": "display_data"
    }
   ],
   "source": [
    "\n",
    "agg_all = (\n",
    "    case_df\n",
    "    .groupby('num_reassignments')['handle_time']\n",
    "    .agg(['mean','std','count'])\n",
    "    .sort_index()\n",
    ")\n",
    "\n",
    "plt.figure()\n",
    "plt.errorbar(\n",
    "    agg_all.index,\n",
    "    agg_all['mean'],\n",
    "    yerr=agg_all['std'],\n",
    "    fmt='o-',\n",
    "    capsize=4\n",
    ")\n",
    "plt.title('Mean Handle Time by # Reassignments')\n",
    "plt.xlabel('Number of Reassignments')\n",
    "plt.ylabel('Handle Time (hrs)')\n",
    "plt.grid(axis='y', alpha=0.3)\n",
    "plt.tight_layout()\n",
    "plt.show()"
   ]
  },
  {
   "cell_type": "code",
   "execution_count": 49,
   "id": "3f634e8e",
   "metadata": {},
   "outputs": [
    {
     "data": {
      "image/png": "[encoded data removed]",
      "text/plain": [
       "<Figure size 640x480 with 1 Axes>"
      ]
     },
     "metadata": {},
     "output_type": "display_data"
    }
   ],
   "source": [
    "top10 = (\n",
    "    case_df\n",
    "    .groupby('assignment_group')['handle_time']\n",
    "    .mean()\n",
    "    .nlargest(10)\n",
    ")\n",
    "\n",
    "plt.figure()\n",
    "top10.plot(kind='bar')\n",
    "plt.title('Top 10 Assignment Groups by Avg Handle Time')\n",
    "plt.xlabel('Assignment Group')\n",
    "plt.ylabel('Avg Handle Time (hrs)')\n",
    "plt.xticks(rotation=45, ha='right')\n",
    "plt.tight_layout()\n",
    "plt.show()"
   ]
  },
  {
   "cell_type": "code",
   "execution_count": 16,
   "id": "2815e78f",
   "metadata": {},
   "outputs": [],
   "source": [
    "#Convert the DataFrame into a PM4PY EventLog\n",
    "log = log_converter.apply(\n",
    "    data,\n",
    "    variant=log_converter.Variants.TO_EVENT_LOG\n",
    ")"
   ]
  },
  {
   "cell_type": "code",
   "execution_count": 26,
   "id": "b76349ee",
   "metadata": {},
   "outputs": [
    {
     "ename": "TypeError",
     "evalue": "unhashable type: 'dict'",
     "output_type": "error",
     "traceback": [
      "\u001b[1;31m---------------------------------------------------------------------------\u001b[0m",
      "\u001b[1;31mTypeError\u001b[0m                                 Traceback (most recent call last)",
      "Cell \u001b[1;32mIn[26], line 21\u001b[0m\n\u001b[0;32m     14\u001b[0m pm_params \u001b[38;5;241m=\u001b[39m {\n\u001b[0;32m     15\u001b[0m     constants\u001b[38;5;241m.\u001b[39mPARAMETER_CONSTANT_CASEID_KEY:   \u001b[38;5;124m\"\u001b[39m\u001b[38;5;124mcase:concept:name\u001b[39m\u001b[38;5;124m\"\u001b[39m,\n\u001b[0;32m     16\u001b[0m     constants\u001b[38;5;241m.\u001b[39mPARAMETER_CONSTANT_ACTIVITY_KEY: \u001b[38;5;124m\"\u001b[39m\u001b[38;5;124mconcept:name\u001b[39m\u001b[38;5;124m\"\u001b[39m,\n\u001b[0;32m     17\u001b[0m     constants\u001b[38;5;241m.\u001b[39mPARAMETER_CONSTANT_TIMESTAMP_KEY:\u001b[38;5;124m\"\u001b[39m\u001b[38;5;124mtime:timestamp\u001b[39m\u001b[38;5;124m\"\u001b[39m\n\u001b[0;32m     18\u001b[0m }\n\u001b[0;32m     20\u001b[0m \u001b[38;5;66;03m# 2) discover the *frequency* DFG\u001b[39;00m\n\u001b[1;32m---> 21\u001b[0m dfg_freq, start_act, end_act \u001b[38;5;241m=\u001b[39m \u001b[43mpm4py\u001b[49m\u001b[38;5;241;43m.\u001b[39;49m\u001b[43mdiscover_dfg\u001b[49m\u001b[43m(\u001b[49m\u001b[43mlog\u001b[49m\u001b[43m,\u001b[49m\u001b[43m \u001b[49m\u001b[43mpm_params\u001b[49m\u001b[43m)\u001b[49m\n\u001b[0;32m     23\u001b[0m \u001b[38;5;66;03m# 3) discover the *performance* DFG\u001b[39;00m\n\u001b[0;32m     24\u001b[0m \u001b[38;5;66;03m#    we need the PERFORMANCE enum – we'll grab it through pm4py’s namespace\u001b[39;00m\n\u001b[0;32m     25\u001b[0m \u001b[38;5;28;01mfrom\u001b[39;00m \u001b[38;5;21;01mpm4py\u001b[39;00m\u001b[38;5;21;01m.\u001b[39;00m\u001b[38;5;21;01malgo\u001b[39;00m\u001b[38;5;21;01m.\u001b[39;00m\u001b[38;5;21;01mdiscovery\u001b[39;00m\u001b[38;5;21;01m.\u001b[39;00m\u001b[38;5;21;01mdfg\u001b[39;00m \u001b[38;5;28;01mimport\u001b[39;00m algorithm \u001b[38;5;28;01mas\u001b[39;00m dfg_algo\n",
      "File \u001b[1;32mc:\\Users\\sofia\\AppData\\Local\\Programs\\Python\\Python312\\Lib\\site-packages\\pm4py\\discovery.py:127\u001b[0m, in \u001b[0;36mdiscover_dfg\u001b[1;34m(log, activity_key, timestamp_key, case_id_key)\u001b[0m\n\u001b[0;32m    124\u001b[0m \u001b[38;5;28;01melse\u001b[39;00m:\n\u001b[0;32m    125\u001b[0m     \u001b[38;5;28;01mfrom\u001b[39;00m \u001b[38;5;21;01mpm4py\u001b[39;00m\u001b[38;5;21;01m.\u001b[39;00m\u001b[38;5;21;01malgo\u001b[39;00m\u001b[38;5;21;01m.\u001b[39;00m\u001b[38;5;21;01mdiscovery\u001b[39;00m\u001b[38;5;21;01m.\u001b[39;00m\u001b[38;5;21;01mdfg\u001b[39;00m \u001b[38;5;28;01mimport\u001b[39;00m algorithm \u001b[38;5;28;01mas\u001b[39;00m dfg_discovery\n\u001b[1;32m--> 127\u001b[0m     dfg \u001b[38;5;241m=\u001b[39m \u001b[43mdfg_discovery\u001b[49m\u001b[38;5;241;43m.\u001b[39;49m\u001b[43mapply\u001b[49m\u001b[43m(\u001b[49m\u001b[43mlog\u001b[49m\u001b[43m,\u001b[49m\u001b[43m \u001b[49m\u001b[43mparameters\u001b[49m\u001b[38;5;241;43m=\u001b[39;49m\u001b[43mproperties\u001b[49m\u001b[43m)\u001b[49m\n\u001b[0;32m    128\u001b[0m     \u001b[38;5;28;01mfrom\u001b[39;00m \u001b[38;5;21;01mpm4py\u001b[39;00m\u001b[38;5;21;01m.\u001b[39;00m\u001b[38;5;21;01mstatistics\u001b[39;00m\u001b[38;5;21;01m.\u001b[39;00m\u001b[38;5;21;01mstart_activities\u001b[39;00m\u001b[38;5;21;01m.\u001b[39;00m\u001b[38;5;21;01mlog\u001b[39;00m \u001b[38;5;28;01mimport\u001b[39;00m (\n\u001b[0;32m    129\u001b[0m         get \u001b[38;5;28;01mas\u001b[39;00m start_activities_module,\n\u001b[0;32m    130\u001b[0m     )\n\u001b[0;32m    131\u001b[0m     \u001b[38;5;28;01mfrom\u001b[39;00m \u001b[38;5;21;01mpm4py\u001b[39;00m\u001b[38;5;21;01m.\u001b[39;00m\u001b[38;5;21;01mstatistics\u001b[39;00m\u001b[38;5;21;01m.\u001b[39;00m\u001b[38;5;21;01mend_activities\u001b[39;00m\u001b[38;5;21;01m.\u001b[39;00m\u001b[38;5;21;01mlog\u001b[39;00m \u001b[38;5;28;01mimport\u001b[39;00m (\n\u001b[0;32m    132\u001b[0m         get \u001b[38;5;28;01mas\u001b[39;00m end_activities_module,\n\u001b[0;32m    133\u001b[0m     )\n",
      "File \u001b[1;32mc:\\Users\\sofia\\AppData\\Local\\Programs\\Python\\Python312\\Lib\\site-packages\\pm4py\\algo\\discovery\\dfg\\algorithm.py:117\u001b[0m, in \u001b[0;36mapply\u001b[1;34m(log, parameters, variant)\u001b[0m\n\u001b[0;32m    114\u001b[0m     \u001b[38;5;28;01melse\u001b[39;00m:\n\u001b[0;32m    115\u001b[0m         \u001b[38;5;28;01mreturn\u001b[39;00m dfg_frequency\n\u001b[1;32m--> 117\u001b[0m \u001b[38;5;28;01mreturn\u001b[39;00m \u001b[43mexec_utils\u001b[49m\u001b[38;5;241;43m.\u001b[39;49m\u001b[43mget_variant\u001b[49m\u001b[43m(\u001b[49m\u001b[43mvariant\u001b[49m\u001b[43m)\u001b[49m\u001b[38;5;241;43m.\u001b[39;49m\u001b[43mapply\u001b[49m\u001b[43m(\u001b[49m\u001b[43mlog_conversion\u001b[49m\u001b[38;5;241;43m.\u001b[39;49m\u001b[43mapply\u001b[49m\u001b[43m(\u001b[49m\u001b[43mlog\u001b[49m\u001b[43m,\u001b[49m\u001b[43m \u001b[49m\u001b[43mparameters\u001b[49m\u001b[43m,\u001b[49m\u001b[43m \u001b[49m\u001b[43mlog_conversion\u001b[49m\u001b[38;5;241;43m.\u001b[39;49m\u001b[43mTO_EVENT_LOG\u001b[49m\u001b[43m)\u001b[49m\u001b[43m,\u001b[49m\u001b[43m \u001b[49m\u001b[43mparameters\u001b[49m\u001b[38;5;241;43m=\u001b[39;49m\u001b[43mparameters\u001b[49m\u001b[43m)\u001b[49m\n",
      "File \u001b[1;32mc:\\Users\\sofia\\AppData\\Local\\Programs\\Python\\Python312\\Lib\\site-packages\\pm4py\\algo\\discovery\\dfg\\variants\\native.py:38\u001b[0m, in \u001b[0;36mapply\u001b[1;34m(log, parameters)\u001b[0m\n\u001b[0;32m     37\u001b[0m \u001b[38;5;28;01mdef\u001b[39;00m \u001b[38;5;21mapply\u001b[39m(log: Union[EventLog, EventStream], parameters: Optional[Dict[Union[\u001b[38;5;28mstr\u001b[39m, Parameters], Any]] \u001b[38;5;241m=\u001b[39m \u001b[38;5;28;01mNone\u001b[39;00m) \u001b[38;5;241m-\u001b[39m\u001b[38;5;241m>\u001b[39m Dict[Tuple[\u001b[38;5;28mstr\u001b[39m, \u001b[38;5;28mstr\u001b[39m], \u001b[38;5;28mint\u001b[39m]:\n\u001b[1;32m---> 38\u001b[0m     \u001b[38;5;28;01mreturn\u001b[39;00m \u001b[43mnative\u001b[49m\u001b[43m(\u001b[49m\u001b[43mlog\u001b[49m\u001b[43m,\u001b[49m\u001b[43m \u001b[49m\u001b[43mparameters\u001b[49m\u001b[38;5;241;43m=\u001b[39;49m\u001b[43mparameters\u001b[49m\u001b[43m)\u001b[49m\n",
      "File \u001b[1;32mc:\\Users\\sofia\\AppData\\Local\\Programs\\Python\\Python312\\Lib\\site-packages\\pm4py\\algo\\discovery\\dfg\\variants\\native.py:68\u001b[0m, in \u001b[0;36mnative\u001b[1;34m(log, parameters)\u001b[0m\n\u001b[0;32m     66\u001b[0m \u001b[38;5;28;01melse\u001b[39;00m:\n\u001b[0;32m     67\u001b[0m     dfgs \u001b[38;5;241m=\u001b[39m \u001b[38;5;28mmap\u001b[39m((\u001b[38;5;28;01mlambda\u001b[39;00m t: [(t[i \u001b[38;5;241m-\u001b[39m window][activity_key], t[i][activity_key]) \u001b[38;5;28;01mfor\u001b[39;00m i \u001b[38;5;129;01min\u001b[39;00m \u001b[38;5;28mrange\u001b[39m(window, \u001b[38;5;28mlen\u001b[39m(t))]), log)\n\u001b[1;32m---> 68\u001b[0m \u001b[38;5;28;01mreturn\u001b[39;00m Counter(\u001b[43m[\u001b[49m\u001b[43mdfg\u001b[49m\u001b[43m \u001b[49m\u001b[38;5;28;43;01mfor\u001b[39;49;00m\u001b[43m \u001b[49m\u001b[43mlista\u001b[49m\u001b[43m \u001b[49m\u001b[38;5;129;43;01min\u001b[39;49;00m\u001b[43m \u001b[49m\u001b[43mdfgs\u001b[49m\u001b[43m \u001b[49m\u001b[38;5;28;43;01mfor\u001b[39;49;00m\u001b[43m \u001b[49m\u001b[43mdfg\u001b[49m\u001b[43m \u001b[49m\u001b[38;5;129;43;01min\u001b[39;49;00m\u001b[43m \u001b[49m\u001b[43mlista\u001b[49m\u001b[43m]\u001b[49m)\n",
      "File \u001b[1;32mc:\\Users\\sofia\\AppData\\Local\\Programs\\Python\\Python312\\Lib\\site-packages\\pm4py\\algo\\discovery\\dfg\\variants\\native.py:67\u001b[0m, in \u001b[0;36mnative.<locals>.<lambda>\u001b[1;34m(t)\u001b[0m\n\u001b[0;32m     64\u001b[0m     dfgs \u001b[38;5;241m=\u001b[39m \u001b[38;5;28mmap\u001b[39m((\u001b[38;5;28;01mlambda\u001b[39;00m t: \u001b[38;5;28mset\u001b[39m((t[i \u001b[38;5;241m-\u001b[39m window][activity_key], t[i][activity_key]) \u001b[38;5;28;01mfor\u001b[39;00m i \u001b[38;5;129;01min\u001b[39;00m \u001b[38;5;28mrange\u001b[39m(window, \u001b[38;5;28mlen\u001b[39m(t)))),\n\u001b[0;32m     65\u001b[0m                log)\n\u001b[0;32m     66\u001b[0m \u001b[38;5;28;01melse\u001b[39;00m:\n\u001b[1;32m---> 67\u001b[0m     dfgs \u001b[38;5;241m=\u001b[39m \u001b[38;5;28mmap\u001b[39m((\u001b[38;5;28;01mlambda\u001b[39;00m t: [(\u001b[43mt\u001b[49m\u001b[43m[\u001b[49m\u001b[43mi\u001b[49m\u001b[43m \u001b[49m\u001b[38;5;241;43m-\u001b[39;49m\u001b[43m \u001b[49m\u001b[43mwindow\u001b[49m\u001b[43m]\u001b[49m\u001b[43m[\u001b[49m\u001b[43mactivity_key\u001b[49m\u001b[43m]\u001b[49m, t[i][activity_key]) \u001b[38;5;28;01mfor\u001b[39;00m i \u001b[38;5;129;01min\u001b[39;00m \u001b[38;5;28mrange\u001b[39m(window, \u001b[38;5;28mlen\u001b[39m(t))]), log)\n\u001b[0;32m     68\u001b[0m \u001b[38;5;28;01mreturn\u001b[39;00m Counter([dfg \u001b[38;5;28;01mfor\u001b[39;00m lista \u001b[38;5;129;01min\u001b[39;00m dfgs \u001b[38;5;28;01mfor\u001b[39;00m dfg \u001b[38;5;129;01min\u001b[39;00m lista])\n",
      "File \u001b[1;32mc:\\Users\\sofia\\AppData\\Local\\Programs\\Python\\Python312\\Lib\\site-packages\\pm4py\\objects\\log\\obj.py:65\u001b[0m, in \u001b[0;36mEvent.__getitem__\u001b[1;34m(self, key)\u001b[0m\n\u001b[0;32m     64\u001b[0m \u001b[38;5;28;01mdef\u001b[39;00m \u001b[38;5;21m__getitem__\u001b[39m(\u001b[38;5;28mself\u001b[39m, key):\n\u001b[1;32m---> 65\u001b[0m     \u001b[38;5;28;01mreturn\u001b[39;00m \u001b[38;5;28;43mself\u001b[39;49m\u001b[38;5;241;43m.\u001b[39;49m\u001b[43m_dict\u001b[49m\u001b[43m[\u001b[49m\u001b[43mkey\u001b[49m\u001b[43m]\u001b[49m\n",
      "\u001b[1;31mTypeError\u001b[0m: unhashable type: 'dict'"
     ]
    }
   ],
   "source": [
    "import os\n",
    "import pm4py\n",
    "from pm4py.objects.log.importer.xes import importer as xes_importer\n",
    "from pm4py.util import constants\n",
    "import pandas as pd\n",
    "from pm4py.objects.log.util import dataframe_utils\n",
    "from pm4py.objects.conversion.log import converter as log_converter\n",
    "import matplotlib.pyplot as plt\n",
    "\n",
    "# — assume `data` is your pandas DataFrame and you’ve done:\n",
    "# log = log_converter.apply(data, variant=log_converter.Variants.TO_EVENT_LOG)\n",
    "\n",
    "# 1) set up the same parameter dict\n",
    "pm_params = {\n",
    "    constants.PARAMETER_CONSTANT_CASEID_KEY:   \"case:concept:name\",\n",
    "    constants.PARAMETER_CONSTANT_ACTIVITY_KEY: \"concept:name\",\n",
    "    constants.PARAMETER_CONSTANT_TIMESTAMP_KEY:\"time:timestamp\"\n",
    "}\n",
    "\n",
    "# 2) discover the *frequency* DFG\n",
    "dfg_freq, start_act, end_act = pm4py.discover_dfg(log, pm_params)\n",
    "\n",
    "# 3) discover the *performance* DFG\n",
    "#    we need the PERFORMANCE enum – we'll grab it through pm4py’s namespace\n",
    "from pm4py.algo.discovery.dfg import algorithm as dfg_algo\n",
    "dfg_perf, _, _ = pm4py.discover_dfg(log, pm_params, dfg_algo.Variants.PERFORMANCE)\n",
    "\n",
    "# 4) view it (will annotate each A→B edge with average latency in seconds)\n",
    "pm4py.view_dfg(dfg_perf, start_act, end_act, performance=True, max_num_edges=50)\n",
    "\n",
    "# 5) pull out those avg latencies, convert to hours, and histogram them\n",
    "perf_map = pm4py.get_performance_dfg(dfg_perf)  \n",
    "latencies = [s / 3600.0 for s in perf_map.values()]\n",
    "\n",
    "plt.figure(figsize=(6,3))\n",
    "plt.hist(latencies, bins=30)\n",
    "plt.title(\"Transition Latencies (hours)\")\n",
    "plt.xlabel(\"Hours between A → B\")\n",
    "plt.tight_layout()\n",
    "plt.show()\n",
    "\n",
    "# 6) build & evaluate an Inductive‐Miner model\n",
    "from pm4py.algo.discovery.inductive import algorithm as inductive_miner\n",
    "from pm4py.objects.conversion.process_tree import converter as pt_converter\n",
    "from pm4py.visualization.petri_net import visualizer as pn_visualizer\n",
    "\n",
    "# mine and convert\n",
    "im_tree = inductive_miner.apply(log, parameters=pm_params)\n",
    "net, im, fm = pt_converter.apply(im_tree, variant=pt_converter.Variants.TO_PETRI_NET)\n",
    "\n",
    "# fitness & precision\n",
    "fit  = pm4py.fitness_token_based_replay(log, net, im, fm)[\"log_fitness\"]\n",
    "prec = pm4py.precision_token_based_replay(log, net, im, fm)\n",
    "print(f\"Token‐based fitness:   {fit:.3f}\")\n",
    "print(f\"Token‐based precision: {prec:.3f}\")\n",
    "\n",
    "# view the Petri net\n",
    "gviz = pn_visualizer.apply(net, im, fm)\n",
    "pn_visualizer.view(gviz)\n"
   ]
  }
 ],
 "metadata": {
  "kernelspec": {
   "display_name": "Python 3",
   "language": "python",
   "name": "python3"
  },
  "language_info": {
   "codemirror_mode": {
    "name": "ipython",
    "version": 3
   },
   "file_extension": ".py",
   "mimetype": "text/x-python",
   "name": "python",
   "nbconvert_exporter": "python",
   "pygments_lexer": "ipython3",
   "version": "3.12.3"
  }
 },
 "nbformat": 4,
 "nbformat_minor": 5
}
