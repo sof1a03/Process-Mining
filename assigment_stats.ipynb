{
 "cells": [
  {
   "cell_type": "code",
   "execution_count": 1,
   "id": "8c9caca5",
   "metadata": {},
   "outputs": [],
   "source": [
    "import os\n",
    "import pandas as pd\n",
    "import statistics\n",
    "from pm4py.objects.conversion.log import converter as log_converter"
   ]
  },
  {
   "cell_type": "code",
   "execution_count": 7,
   "id": "452d391b",
   "metadata": {},
   "outputs": [
    {
     "name": "stdout",
     "output_type": "stream",
     "text": [
      "<class 'pandas.core.frame.DataFrame'>\n",
      "RangeIndex: 303819 entries, 0 to 303818\n",
      "Data columns (total 24 columns):\n",
      " #   Column                   Non-Null Count   Dtype  \n",
      "---  ------                   --------------   -----  \n",
      " 0   Incident ID              303819 non-null  object \n",
      " 1   Activity                 303819 non-null  object \n",
      " 2   ActivityTimeStamp        303819 non-null  object \n",
      " 3   Asset Affected           303819 non-null  object \n",
      " 4   Asset Type Affected      303819 non-null  object \n",
      " 5   Asset SubType Affected   303819 non-null  object \n",
      " 6   Service Affected         303819 non-null  object \n",
      " 7   Status                   303819 non-null  object \n",
      " 8   Impact                   303819 non-null  int64  \n",
      " 9   Urgency                  303819 non-null  int64  \n",
      " 10  Priority                 303819 non-null  int64  \n",
      " 11  Category                 303819 non-null  object \n",
      " 12  Number of Reassignments  303810 non-null  float64\n",
      " 13  Open Time                303819 non-null  object \n",
      " 14  Reopen Time              33687 non-null   object \n",
      " 15  Resolved Time            294641 non-null  object \n",
      " 16  Close Time               303819 non-null  object \n",
      " 17  Handle Time (Hours)      303810 non-null  float64\n",
      " 18  Closure Code             303819 non-null  object \n",
      " 19  Asset Caused             303819 non-null  object \n",
      " 20  Asset Type Caused        303819 non-null  object \n",
      " 21  Asset SubType Caused     303819 non-null  object \n",
      " 22  Service Caused           303819 non-null  object \n",
      " 23  Assignment Group         303819 non-null  object \n",
      "dtypes: float64(2), int64(3), object(19)\n",
      "memory usage: 55.6+ MB\n"
     ]
    }
   ],
   "source": [
    "path = os.path.join(os.getcwd(), \"incidentprocess_custom1.csv\")\n",
    "data = pd.read_csv(path)\n",
    "data.info()"
   ]
  },
  {
   "cell_type": "code",
   "execution_count": 8,
   "id": "8ac66758",
   "metadata": {},
   "outputs": [],
   "source": [
    "data.columns = data.columns.str.replace(\" \", \"_\")\n",
    "rename_map = {\n",
    "    \"Incident_ID\":\"case:concept:name\",\n",
    "    \"Activity\":\"concept:name\",\n",
    "    \"ActivityTimeStamp\":\"time:timestamp\"\n",
    "}\n",
    "data = data.rename(columns=rename_map)"
   ]
  },
  {
   "cell_type": "code",
   "execution_count": 9,
   "id": "c8505e8e",
   "metadata": {},
   "outputs": [
    {
     "data": {
      "text/plain": [
       "Index(['case:concept:name', 'concept:name', 'time:timestamp', 'Asset_Affected',\n",
       "       'Asset_Type_Affected', 'Asset_SubType_Affected', 'Service_Affected',\n",
       "       'Status', 'Impact', 'Urgency', 'Priority', 'Category',\n",
       "       'Number_of_Reassignments', 'Open_Time', 'Reopen_Time', 'Resolved_Time',\n",
       "       'Close_Time', 'Handle_Time_(Hours)', 'Closure_Code', 'Asset_Caused',\n",
       "       'Asset_Type_Caused', 'Asset_SubType_Caused', 'Service_Caused',\n",
       "       'Assignment_Group'],\n",
       "      dtype='object')"
      ]
     },
     "execution_count": 9,
     "metadata": {},
     "output_type": "execute_result"
    }
   ],
   "source": [
    "data.columns"
   ]
  },
  {
   "cell_type": "code",
   "execution_count": 10,
   "id": "3970768c",
   "metadata": {},
   "outputs": [],
   "source": [
    "assert {\"case:concept:name\",\"concept:name\",\"time:timestamp\"}.issubset(data.columns), \\\n",
    "    \"Missing one of the mandatory columns after rename!\""
   ]
  },
  {
   "cell_type": "code",
   "execution_count": 12,
   "id": "7958628a",
   "metadata": {},
   "outputs": [],
   "source": [
    "data[\"time:timestamp\"] = pd.to_datetime(data[\"time:timestamp\"], dayfirst=True)"
   ]
  },
  {
   "cell_type": "code",
   "execution_count": 14,
   "id": "74420287",
   "metadata": {},
   "outputs": [],
   "source": [
    "total_cases         = data[\"case:concept:name\"].nunique()\n",
    "total_events        = len(data)\n",
    "distinct_activities = data[\"concept:name\"].nunique()\n",
    "epc                 = data.groupby(\"case:concept:name\").size()\n",
    "events_mean         = epc.mean()\n",
    "events_median       = epc.median()\n",
    "events_stdev        = epc.std(ddof=0)\n",
    "num_columns         = data.shape[1]"
   ]
  },
  {
   "cell_type": "code",
   "execution_count": 15,
   "id": "7d46432c",
   "metadata": {},
   "outputs": [
    {
     "name": "stdout",
     "output_type": "stream",
     "text": [
      "Total cases:               46601\n",
      "Total events:              303819\n",
      "Distinct activities:       18\n",
      "Events per case (mean):    6.52\n",
      "Events per case (median):  5.0\n",
      "Events per case (stdev):   5.71\n",
      "Number of columns:         24\n"
     ]
    }
   ],
   "source": [
    "print(f\"Total cases:               {total_cases}\")\n",
    "print(f\"Total events:              {total_events}\")\n",
    "print(f\"Distinct activities:       {distinct_activities}\")\n",
    "print(f\"Events per case (mean):    {events_mean:.2f}\")\n",
    "print(f\"Events per case (median):  {events_median}\")\n",
    "print(f\"Events per case (stdev):   {events_stdev:.2f}\")\n",
    "print(f\"Number of columns:         {num_columns}\")"
   ]
  },
  {
   "cell_type": "code",
   "execution_count": 13,
   "id": "2815e78f",
   "metadata": {},
   "outputs": [],
   "source": [
    "#Convert the DataFrame into a PM4PY EventLog\n",
    "log = log_converter.apply(\n",
    "    data,\n",
    "    variant=log_converter.Variants.TO_EVENT_LOG\n",
    ")"
   ]
  },
  {
   "cell_type": "code",
   "execution_count": null,
   "id": "b76349ee",
   "metadata": {},
   "outputs": [],
   "source": []
  }
 ],
 "metadata": {
  "kernelspec": {
   "display_name": "Python 3",
   "language": "python",
   "name": "python3"
  },
  "language_info": {
   "codemirror_mode": {
    "name": "ipython",
    "version": 3
   },
   "file_extension": ".py",
   "mimetype": "text/x-python",
   "name": "python",
   "nbconvert_exporter": "python",
   "pygments_lexer": "ipython3",
   "version": "3.12.3"
  }
 },
 "nbformat": 4,
 "nbformat_minor": 5
}
